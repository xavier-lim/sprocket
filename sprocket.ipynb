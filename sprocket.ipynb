{
 "cells": [
  {
   "cell_type": "markdown",
   "metadata": {},
   "source": [
    "# Sprocket"
   ]
  },
  {
   "cell_type": "markdown",
   "metadata": {},
   "source": [
    "Sprocket identifies high-value new customers for the hypothetical bike company Sprocket Central Pty Ltd. After creating a model to predict the amount of profit coming from a current customer, it will be applied to predict profit from new customers. The model makes predictions based on customer demographic information.\n",
    "\n",
    "After reading in data about current customer information from multiple data frames, the data will be joined and cleaned to create a compiled data frame consisting of all current customer information. Then, an exploratory data analysis (EDA) will be performed to determine which features to include in the prediction model. Next, a data pipeline will be created to process the data before it is used by multiple prediction models (decision tree, random forest, and gradient boosted models). The prediction models will be evaluated using cross-validation. The model with the lowest mean absolute error (MAE) will be applied to the new customer data frame to determine the highest-valued new customers."
   ]
  },
  {
   "cell_type": "markdown",
   "metadata": {},
   "source": [
    "#   \n",
    "## Packages"
   ]
  },
  {
   "cell_type": "code",
   "execution_count": 1,
   "metadata": {},
   "outputs": [],
   "source": [
    "import pandas as pd\n",
    "import matplotlib.pyplot as plt\n",
    "import numpy as np\n",
    "import seaborn as sns\n",
    "import sklearn\n",
    "import xgboost as xgb\n",
    "import lightgbm as lgb\n",
    "import catboost"
   ]
  },
  {
   "cell_type": "markdown",
   "metadata": {},
   "source": [
    "#   \n",
    "## Data Sets"
   ]
  },
  {
   "cell_type": "markdown",
   "metadata": {},
   "source": [
    "All the data for this project was collected from [InsideSherpa](https://www.theforage.com/login?loginWithToken=cQYJkeAiraFbBaUzLqoF_xH4S-IZctid3Jm_rJ2xoJE&redirectTo=virtual-internships/m7W4GMqeT3bh9Nb2c):\n",
    "\n",
    "1. The **Transactions** data set presents information about *20,000* transactions such as the customer ID, transaction ID, list price, and cost.\n",
    "2. The **Customer Demographic** data set presents information about *4000* customers such as their customer ID, name, gender, date of birth, job industry, tenure, wealth segment, number of past bike related purchases, and whether they own a car.\n",
    "3. The **Customer Address** data set presents location information about *4000* customers such as the state the customer lives in.\n",
    "4. The **New Customer** data set presents information about *1000* new customers such as their name, gender, date of birth, job industry, tenure, wealth segment, location (state), number of past bike related purchases, and whether they own a car."
   ]
  },
  {
   "cell_type": "markdown",
   "metadata": {},
   "source": [
    "\n",
    "#### Transactions Data Frame"
   ]
  },
  {
   "cell_type": "code",
   "execution_count": 2,
   "metadata": {},
   "outputs": [],
   "source": [
    "# Read transactions data frame\n",
    "transactions_df = pd.read_excel('KPMG_VI_raw_data.xlsx',sheet_name = 'Transactions',skiprows = 1)[['customer_id','list_price',\n",
    "                                                                                                'standard_cost']]"
   ]
  },
  {
   "cell_type": "code",
   "execution_count": 3,
   "metadata": {},
   "outputs": [
    {
     "data": {
      "text/html": [
       "<div>\n",
       "<style scoped>\n",
       "    .dataframe tbody tr th:only-of-type {\n",
       "        vertical-align: middle;\n",
       "    }\n",
       "\n",
       "    .dataframe tbody tr th {\n",
       "        vertical-align: top;\n",
       "    }\n",
       "\n",
       "    .dataframe thead th {\n",
       "        text-align: right;\n",
       "    }\n",
       "</style>\n",
       "<table border=\"1\" class=\"dataframe\">\n",
       "  <thead>\n",
       "    <tr style=\"text-align: right;\">\n",
       "      <th></th>\n",
       "      <th>profit</th>\n",
       "    </tr>\n",
       "    <tr>\n",
       "      <th>customer_id</th>\n",
       "      <th></th>\n",
       "    </tr>\n",
       "  </thead>\n",
       "  <tbody>\n",
       "    <tr>\n",
       "      <th>1</th>\n",
       "      <td>3018.09</td>\n",
       "    </tr>\n",
       "    <tr>\n",
       "      <th>2</th>\n",
       "      <td>2226.26</td>\n",
       "    </tr>\n",
       "    <tr>\n",
       "      <th>3</th>\n",
       "      <td>3362.81</td>\n",
       "    </tr>\n",
       "    <tr>\n",
       "      <th>4</th>\n",
       "      <td>220.57</td>\n",
       "    </tr>\n",
       "    <tr>\n",
       "      <th>5</th>\n",
       "      <td>2394.94</td>\n",
       "    </tr>\n",
       "  </tbody>\n",
       "</table>\n",
       "</div>"
      ],
      "text/plain": [
       "              profit\n",
       "customer_id         \n",
       "1            3018.09\n",
       "2            2226.26\n",
       "3            3362.81\n",
       "4             220.57\n",
       "5            2394.94"
      ]
     },
     "execution_count": 3,
     "metadata": {},
     "output_type": "execute_result"
    }
   ],
   "source": [
    "# Group transactions by customer_id\n",
    "customer_total = transactions_df.groupby('customer_id').sum()\n",
    "\n",
    "# Calculate profit by customer\n",
    "customer_total['profit'] = customer_total['list_price'] - customer_total['standard_cost']\n",
    "customer_profit = customer_total.drop(['list_price', 'standard_cost'], axis = 1)\n",
    "    \n",
    "customer_profit.head()"
   ]
  },
  {
   "cell_type": "markdown",
   "metadata": {},
   "source": [
    "#   \n",
    "#### Customer Demographic Data Frame"
   ]
  },
  {
   "cell_type": "code",
   "execution_count": 4,
   "metadata": {},
   "outputs": [],
   "source": [
    "# Read customer demographic data frame\n",
    "demographic = pd.read_excel('KPMG_VI_raw_data.xlsx', sheet_name = 'CustomerDemographic', index_col = 0, skiprows = 1)"
   ]
  },
  {
   "cell_type": "code",
   "execution_count": 5,
   "metadata": {
    "scrolled": true
   },
   "outputs": [
    {
     "data": {
      "text/html": [
       "<div>\n",
       "<style scoped>\n",
       "    .dataframe tbody tr th:only-of-type {\n",
       "        vertical-align: middle;\n",
       "    }\n",
       "\n",
       "    .dataframe tbody tr th {\n",
       "        vertical-align: top;\n",
       "    }\n",
       "\n",
       "    .dataframe thead th {\n",
       "        text-align: right;\n",
       "    }\n",
       "</style>\n",
       "<table border=\"1\" class=\"dataframe\">\n",
       "  <thead>\n",
       "    <tr style=\"text-align: right;\">\n",
       "      <th></th>\n",
       "      <th>first_name</th>\n",
       "      <th>last_name</th>\n",
       "      <th>gender</th>\n",
       "      <th>past_3_years_bike_related_purchases</th>\n",
       "      <th>DOB</th>\n",
       "      <th>job_industry_category</th>\n",
       "      <th>wealth_segment</th>\n",
       "      <th>owns_car</th>\n",
       "      <th>tenure</th>\n",
       "    </tr>\n",
       "    <tr>\n",
       "      <th>customer_id</th>\n",
       "      <th></th>\n",
       "      <th></th>\n",
       "      <th></th>\n",
       "      <th></th>\n",
       "      <th></th>\n",
       "      <th></th>\n",
       "      <th></th>\n",
       "      <th></th>\n",
       "      <th></th>\n",
       "    </tr>\n",
       "  </thead>\n",
       "  <tbody>\n",
       "    <tr>\n",
       "      <th>1</th>\n",
       "      <td>Laraine</td>\n",
       "      <td>Medendorp</td>\n",
       "      <td>F</td>\n",
       "      <td>93</td>\n",
       "      <td>1953-10-12</td>\n",
       "      <td>Health</td>\n",
       "      <td>Mass Customer</td>\n",
       "      <td>Yes</td>\n",
       "      <td>11.0</td>\n",
       "    </tr>\n",
       "    <tr>\n",
       "      <th>2</th>\n",
       "      <td>Eli</td>\n",
       "      <td>Bockman</td>\n",
       "      <td>Male</td>\n",
       "      <td>81</td>\n",
       "      <td>1980-12-16</td>\n",
       "      <td>Financial Services</td>\n",
       "      <td>Mass Customer</td>\n",
       "      <td>Yes</td>\n",
       "      <td>16.0</td>\n",
       "    </tr>\n",
       "    <tr>\n",
       "      <th>3</th>\n",
       "      <td>Arlin</td>\n",
       "      <td>Dearle</td>\n",
       "      <td>Male</td>\n",
       "      <td>61</td>\n",
       "      <td>1954-01-20</td>\n",
       "      <td>Property</td>\n",
       "      <td>Mass Customer</td>\n",
       "      <td>Yes</td>\n",
       "      <td>15.0</td>\n",
       "    </tr>\n",
       "    <tr>\n",
       "      <th>4</th>\n",
       "      <td>Talbot</td>\n",
       "      <td>NaN</td>\n",
       "      <td>Male</td>\n",
       "      <td>33</td>\n",
       "      <td>1961-10-03</td>\n",
       "      <td>IT</td>\n",
       "      <td>Mass Customer</td>\n",
       "      <td>No</td>\n",
       "      <td>7.0</td>\n",
       "    </tr>\n",
       "    <tr>\n",
       "      <th>5</th>\n",
       "      <td>Sheila-kathryn</td>\n",
       "      <td>Calton</td>\n",
       "      <td>Female</td>\n",
       "      <td>56</td>\n",
       "      <td>1977-05-13</td>\n",
       "      <td>NaN</td>\n",
       "      <td>Affluent Customer</td>\n",
       "      <td>Yes</td>\n",
       "      <td>8.0</td>\n",
       "    </tr>\n",
       "  </tbody>\n",
       "</table>\n",
       "</div>"
      ],
      "text/plain": [
       "                 first_name  last_name  gender  \\\n",
       "customer_id                                      \n",
       "1                   Laraine  Medendorp       F   \n",
       "2                       Eli    Bockman    Male   \n",
       "3                     Arlin     Dearle    Male   \n",
       "4                    Talbot        NaN    Male   \n",
       "5            Sheila-kathryn     Calton  Female   \n",
       "\n",
       "             past_3_years_bike_related_purchases        DOB  \\\n",
       "customer_id                                                   \n",
       "1                                             93 1953-10-12   \n",
       "2                                             81 1980-12-16   \n",
       "3                                             61 1954-01-20   \n",
       "4                                             33 1961-10-03   \n",
       "5                                             56 1977-05-13   \n",
       "\n",
       "            job_industry_category     wealth_segment owns_car  tenure  \n",
       "customer_id                                                            \n",
       "1                          Health      Mass Customer      Yes    11.0  \n",
       "2              Financial Services      Mass Customer      Yes    16.0  \n",
       "3                        Property      Mass Customer      Yes    15.0  \n",
       "4                              IT      Mass Customer       No     7.0  \n",
       "5                             NaN  Affluent Customer      Yes     8.0  "
      ]
     },
     "execution_count": 5,
     "metadata": {},
     "output_type": "execute_result"
    }
   ],
   "source": [
    "# Drop columns irrelevant to analysis\n",
    "demographic_df = demographic.drop(['job_title', 'deceased_indicator','default'], axis=1)\n",
    "demographic_df.head()"
   ]
  },
  {
   "cell_type": "markdown",
   "metadata": {},
   "source": [
    "#   \n",
    "#### Customer Address Data Frame"
   ]
  },
  {
   "cell_type": "code",
   "execution_count": 6,
   "metadata": {},
   "outputs": [
    {
     "data": {
      "text/html": [
       "<div>\n",
       "<style scoped>\n",
       "    .dataframe tbody tr th:only-of-type {\n",
       "        vertical-align: middle;\n",
       "    }\n",
       "\n",
       "    .dataframe tbody tr th {\n",
       "        vertical-align: top;\n",
       "    }\n",
       "\n",
       "    .dataframe thead th {\n",
       "        text-align: right;\n",
       "    }\n",
       "</style>\n",
       "<table border=\"1\" class=\"dataframe\">\n",
       "  <thead>\n",
       "    <tr style=\"text-align: right;\">\n",
       "      <th></th>\n",
       "      <th>state</th>\n",
       "    </tr>\n",
       "    <tr>\n",
       "      <th>customer_id</th>\n",
       "      <th></th>\n",
       "    </tr>\n",
       "  </thead>\n",
       "  <tbody>\n",
       "    <tr>\n",
       "      <th>1</th>\n",
       "      <td>New South Wales</td>\n",
       "    </tr>\n",
       "    <tr>\n",
       "      <th>2</th>\n",
       "      <td>New South Wales</td>\n",
       "    </tr>\n",
       "    <tr>\n",
       "      <th>4</th>\n",
       "      <td>QLD</td>\n",
       "    </tr>\n",
       "    <tr>\n",
       "      <th>5</th>\n",
       "      <td>New South Wales</td>\n",
       "    </tr>\n",
       "    <tr>\n",
       "      <th>6</th>\n",
       "      <td>VIC</td>\n",
       "    </tr>\n",
       "  </tbody>\n",
       "</table>\n",
       "</div>"
      ],
      "text/plain": [
       "                       state\n",
       "customer_id                 \n",
       "1            New South Wales\n",
       "2            New South Wales\n",
       "4                        QLD\n",
       "5            New South Wales\n",
       "6                        VIC"
      ]
     },
     "execution_count": 6,
     "metadata": {},
     "output_type": "execute_result"
    }
   ],
   "source": [
    "# Read customer address data frame\n",
    "address_df = pd.read_excel('KPMG_VI_raw_data.xlsx', sheet_name = 'CustomerAddress', index_col = 0, \n",
    "                           skiprows = 1)[['state']]\n",
    "address_df.head()"
   ]
  },
  {
   "cell_type": "markdown",
   "metadata": {},
   "source": [
    "#  \n",
    "#   \n",
    "## Data Wranling"
   ]
  },
  {
   "cell_type": "markdown",
   "metadata": {},
   "source": [
    " \n",
    "#### Join Data Frames"
   ]
  },
  {
   "cell_type": "markdown",
   "metadata": {},
   "source": [
    "I will join the customer address data frame to the customer demographic data frame by customer id to create a customer attribute data frame. Then I will join the customer attribute data frame with the transaction data frame by customer id. This will be the final compiled data frame that will be used to create a model to predict high-value customers."
   ]
  },
  {
   "cell_type": "code",
   "execution_count": 7,
   "metadata": {},
   "outputs": [],
   "source": [
    "customer_attribute = pd.concat([demographic_df, address_df], axis=1, join='outer')"
   ]
  },
  {
   "cell_type": "markdown",
   "metadata": {},
   "source": [
    "I decided to outer join the two data frames rather than inner join because these data frames only consist of predictor variables and any missing values will be imputed later in the analysis.\n",
    "\n",
    "Now, I will join the customer attribute data frame with the transaction data frame by customer id. However, I decided to inner join the two data frames rather than outer join because it contains the target variable (profit) which is required to create a prediction model."
   ]
  },
  {
   "cell_type": "code",
   "execution_count": 8,
   "metadata": {
    "scrolled": false
   },
   "outputs": [],
   "source": [
    "current_customers = pd.concat([customer_attribute, customer_profit], axis=1, join='inner')"
   ]
  },
  {
   "cell_type": "markdown",
   "metadata": {},
   "source": [
    "#   \n",
    "#### Data Cleaning"
   ]
  },
  {
   "cell_type": "markdown",
   "metadata": {},
   "source": [
    "There are numerous data cleaning procedures that need to be performed to make the data easier to work with prior to analysis.\n",
    "\n",
    "Data Cleaning Steps:\n",
    "* Combine first name and last name\n",
    "* Fix inconsistent gender data entries (i.e. change 'F' to 'Female' and 'M' to 'Male')\n",
    "* Calculate age from date of birth (DOB)\n",
    "* Change age outlier\n",
    "* Fix inconsistent state data entries (i.e. change 'NSW' to 'New Soth Wales', 'QLD' to 'Queensland', and 'VIC' to 'Victoria')\n",
    "* Rename long column names"
   ]
  },
  {
   "cell_type": "code",
   "execution_count": 9,
   "metadata": {},
   "outputs": [],
   "source": [
    "def clean_data(df):\n",
    "    \n",
    "    # Combine first name and last name\n",
    "    last_name = df['last_name']\n",
    "    last_name.fillna(\" \", inplace=True)\n",
    "    df['name'] = df['first_name'] + \" \" + df['last_name']\n",
    "\n",
    "    # Uniform genders\n",
    "    df.loc[df['gender'] == 'F', 'gender'] = 'Female'\n",
    "    df.loc[df['gender'] == 'Femal', 'gender'] = 'Female'\n",
    "    df.loc[df['gender'] == 'M', 'gender'] = 'Male'\n",
    "    df.loc[df['gender'] == 'U', 'gender'] = 'Unknown'\n",
    "\n",
    "    # Calculate age from date of birth (DOB)\n",
    "    now = pd.to_datetime('now')\n",
    "    df['age'] = (now - df['DOB']).astype('<m8[Y]')\n",
    "\n",
    "    # Change age outlier\n",
    "    df.loc[df['age'] == 176, 'age'] = 76\n",
    "\n",
    "    # Uniform state values\n",
    "    df.loc[df['state'] == 'NSW', 'state'] = 'New South Wales'\n",
    "    df.loc[df['state'] == 'QLD', 'state'] = 'Queensland'\n",
    "    df.loc[df['state'] == 'VIC', 'state'] = 'Victoria'\n",
    "\n",
    "    # Rename columns\n",
    "    df = df.rename(columns={'past_3_years_bike_related_purchases': 'past_related_purchases',\n",
    "                            'job_industry_category': 'job_industry'})\n",
    "    \n",
    "    return df"
   ]
  },
  {
   "cell_type": "code",
   "execution_count": 10,
   "metadata": {
    "scrolled": true
   },
   "outputs": [
    {
     "data": {
      "text/html": [
       "<div>\n",
       "<style scoped>\n",
       "    .dataframe tbody tr th:only-of-type {\n",
       "        vertical-align: middle;\n",
       "    }\n",
       "\n",
       "    .dataframe tbody tr th {\n",
       "        vertical-align: top;\n",
       "    }\n",
       "\n",
       "    .dataframe thead th {\n",
       "        text-align: right;\n",
       "    }\n",
       "</style>\n",
       "<table border=\"1\" class=\"dataframe\">\n",
       "  <thead>\n",
       "    <tr style=\"text-align: right;\">\n",
       "      <th></th>\n",
       "      <th>name</th>\n",
       "      <th>gender</th>\n",
       "      <th>age</th>\n",
       "      <th>job_industry</th>\n",
       "      <th>tenure</th>\n",
       "      <th>wealth_segment</th>\n",
       "      <th>past_related_purchases</th>\n",
       "      <th>state</th>\n",
       "      <th>owns_car</th>\n",
       "      <th>profit</th>\n",
       "    </tr>\n",
       "    <tr>\n",
       "      <th>customer_id</th>\n",
       "      <th></th>\n",
       "      <th></th>\n",
       "      <th></th>\n",
       "      <th></th>\n",
       "      <th></th>\n",
       "      <th></th>\n",
       "      <th></th>\n",
       "      <th></th>\n",
       "      <th></th>\n",
       "      <th></th>\n",
       "    </tr>\n",
       "  </thead>\n",
       "  <tbody>\n",
       "    <tr>\n",
       "      <th>1</th>\n",
       "      <td>Laraine Medendorp</td>\n",
       "      <td>Female</td>\n",
       "      <td>66.0</td>\n",
       "      <td>Health</td>\n",
       "      <td>11.0</td>\n",
       "      <td>Mass Customer</td>\n",
       "      <td>93.0</td>\n",
       "      <td>New South Wales</td>\n",
       "      <td>Yes</td>\n",
       "      <td>3018.09</td>\n",
       "    </tr>\n",
       "    <tr>\n",
       "      <th>2</th>\n",
       "      <td>Eli Bockman</td>\n",
       "      <td>Male</td>\n",
       "      <td>39.0</td>\n",
       "      <td>Financial Services</td>\n",
       "      <td>16.0</td>\n",
       "      <td>Mass Customer</td>\n",
       "      <td>81.0</td>\n",
       "      <td>New South Wales</td>\n",
       "      <td>Yes</td>\n",
       "      <td>2226.26</td>\n",
       "    </tr>\n",
       "    <tr>\n",
       "      <th>3</th>\n",
       "      <td>Arlin Dearle</td>\n",
       "      <td>Male</td>\n",
       "      <td>66.0</td>\n",
       "      <td>Property</td>\n",
       "      <td>15.0</td>\n",
       "      <td>Mass Customer</td>\n",
       "      <td>61.0</td>\n",
       "      <td>NaN</td>\n",
       "      <td>Yes</td>\n",
       "      <td>3362.81</td>\n",
       "    </tr>\n",
       "    <tr>\n",
       "      <th>4</th>\n",
       "      <td>Talbot</td>\n",
       "      <td>Male</td>\n",
       "      <td>58.0</td>\n",
       "      <td>IT</td>\n",
       "      <td>7.0</td>\n",
       "      <td>Mass Customer</td>\n",
       "      <td>33.0</td>\n",
       "      <td>Queensland</td>\n",
       "      <td>No</td>\n",
       "      <td>220.57</td>\n",
       "    </tr>\n",
       "    <tr>\n",
       "      <th>5</th>\n",
       "      <td>Sheila-kathryn Calton</td>\n",
       "      <td>Female</td>\n",
       "      <td>43.0</td>\n",
       "      <td>NaN</td>\n",
       "      <td>8.0</td>\n",
       "      <td>Affluent Customer</td>\n",
       "      <td>56.0</td>\n",
       "      <td>New South Wales</td>\n",
       "      <td>Yes</td>\n",
       "      <td>2394.94</td>\n",
       "    </tr>\n",
       "  </tbody>\n",
       "</table>\n",
       "</div>"
      ],
      "text/plain": [
       "                              name  gender   age        job_industry  tenure  \\\n",
       "customer_id                                                                    \n",
       "1                Laraine Medendorp  Female  66.0              Health    11.0   \n",
       "2                      Eli Bockman    Male  39.0  Financial Services    16.0   \n",
       "3                     Arlin Dearle    Male  66.0            Property    15.0   \n",
       "4                         Talbot      Male  58.0                  IT     7.0   \n",
       "5            Sheila-kathryn Calton  Female  43.0                 NaN     8.0   \n",
       "\n",
       "                wealth_segment  past_related_purchases            state  \\\n",
       "customer_id                                                               \n",
       "1                Mass Customer                    93.0  New South Wales   \n",
       "2                Mass Customer                    81.0  New South Wales   \n",
       "3                Mass Customer                    61.0              NaN   \n",
       "4                Mass Customer                    33.0       Queensland   \n",
       "5            Affluent Customer                    56.0  New South Wales   \n",
       "\n",
       "            owns_car   profit  \n",
       "customer_id                    \n",
       "1                Yes  3018.09  \n",
       "2                Yes  2226.26  \n",
       "3                Yes  3362.81  \n",
       "4                 No   220.57  \n",
       "5                Yes  2394.94  "
      ]
     },
     "execution_count": 10,
     "metadata": {},
     "output_type": "execute_result"
    }
   ],
   "source": [
    "# Clean customer data frame\n",
    "customer_df = clean_data(current_customers)\n",
    "\n",
    "# Select columns relevant to analysis\n",
    "customer_df = customer_df[['name','gender','age','job_industry','tenure','wealth_segment','past_related_purchases',\n",
    "                           'state','owns_car','profit']]\n",
    "customer_df.head()"
   ]
  },
  {
   "cell_type": "markdown",
   "metadata": {},
   "source": [
    "#   \n",
    "#### Missing Data"
   ]
  },
  {
   "cell_type": "markdown",
   "metadata": {},
   "source": [
    "About 2% of customers have a missing age and/or tenure. In addition, about 16% of customers have a missing job industry category and 0.1% have a missing state. Since this is a substantial amount of data, I cannot simply remove entries with missing values. Instead, I will use an imputer to change missing ages and tenures to their respective median value and set missing job industries and states to 'Other'."
   ]
  },
  {
   "cell_type": "code",
   "execution_count": 11,
   "metadata": {},
   "outputs": [
    {
     "data": {
      "text/plain": [
       "name                      0.000000\n",
       "gender                    0.000000\n",
       "age                       0.021758\n",
       "job_industry              0.160607\n",
       "tenure                    0.021758\n",
       "wealth_segment            0.000000\n",
       "past_related_purchases    0.000000\n",
       "state                     0.001145\n",
       "owns_car                  0.000000\n",
       "profit                    0.000000\n",
       "dtype: float64"
      ]
     },
     "execution_count": 11,
     "metadata": {},
     "output_type": "execute_result"
    }
   ],
   "source": [
    "# Percentage of data with null values\n",
    "customer_df.isnull().sum()/len(customer_df.index)"
   ]
  },
  {
   "cell_type": "markdown",
   "metadata": {},
   "source": [
    "#   \n",
    "#   \n",
    "## Exploratory Data Analysis (EDA)"
   ]
  },
  {
   "cell_type": "markdown",
   "metadata": {},
   "source": [
    "To determine which features to include in my model, I will analyze the relationship between each possible predictor variable and the target variable (profit). Ideally, I am looking for variables that will clearly differentiate a customer's predicted profit."
   ]
  },
  {
   "cell_type": "markdown",
   "metadata": {},
   "source": [
    "#### Possible Numerical Predictor Variables"
   ]
  },
  {
   "cell_type": "code",
   "execution_count": 12,
   "metadata": {
    "scrolled": false
   },
   "outputs": [
    {
     "data": {
      "image/png": "[encoded data removed]",
      "text/plain": [
       "<Figure size 360x360 with 2 Axes>"
      ]
     },
     "metadata": {},
     "output_type": "display_data"
    }
   ],
   "source": [
    "# Correlation matrix\n",
    "correlations = customer_df.corr()\n",
    "\n",
    "# Heat map of correlation matrix\n",
    "mask = np.zeros_like(correlations)\n",
    "mask[np.triu_indices_from(mask)] = True\n",
    "with sns.axes_style(\"white\"):\n",
    "    f, ax = plt.subplots(figsize=(5,5))\n",
    "    ax = sns.heatmap(correlations,mask=mask,annot=True,cmap=\"YlGnBu\")"
   ]
  },
  {
   "cell_type": "markdown",
   "metadata": {},
   "source": [
    "There appears to be no correlation between profit and age, tenure, and past related purchases. Now, I will take a look at the average profit by each possible predictor variable."
   ]
  },
  {
   "cell_type": "code",
   "execution_count": 13,
   "metadata": {},
   "outputs": [
    {
     "data": {
      "text/plain": [
       "Text(0, 0.5, 'Profit')"
      ]
     },
     "execution_count": 13,
     "metadata": {},
     "output_type": "execute_result"
    },
    {
     "data": {
      "image/png": "[encoded data removed]",
      "text/plain": [
       "<Figure size 1224x360 with 3 Axes>"
      ]
     },
     "metadata": {
      "needs_background": "light"
     },
     "output_type": "display_data"
    }
   ],
   "source": [
    "fig, ax = plt.subplots(1,3,figsize=(17, 5))\n",
    "\n",
    "# Scatter plot showing average profit by job industry\n",
    "plt.subplot(1,3,1)\n",
    "plt.title(\"Profit by Age\")\n",
    "sns.lineplot(x='age', y='profit', data=customer_df)\n",
    "plt.xlabel(\"Age\")\n",
    "plt.ylabel(\"Profit\")\n",
    "\n",
    "# Scatter plot showing average profit by gender\n",
    "plt.subplot(1, 3, 2)\n",
    "plt.title(\"Profit by Tenure\")\n",
    "sns.lineplot(x='tenure', y='profit', data=customer_df)\n",
    "plt.xlabel(\"Tenure\")\n",
    "plt.ylabel(\"Profit\")\n",
    "\n",
    "# Scatter plot showing average profit by number of past related purchases\n",
    "plt.subplot(1,3,3)\n",
    "plt.title(\"Profit by Past Related Purchases\")\n",
    "sns.lineplot(x='past_related_purchases', y='profit', data=customer_df)\n",
    "plt.xlabel(\"Past Purchases\")\n",
    "plt.ylabel(\"Profit\")"
   ]
  },
  {
   "cell_type": "markdown",
   "metadata": {},
   "source": [
    "Age, tenure, and past purchases seem to do a decent job of differentiating a customer's average profit. Specifically, customers in their early 20s and 65+ appear to generate more profit, on average, than those in between age 30 to 60. In addition, customers with a longer tenure and more past bike related purchases appear to generate more profit on average."
   ]
  },
  {
   "cell_type": "markdown",
   "metadata": {},
   "source": [
    "#### Possible Categorical Predictor Variables"
   ]
  },
  {
   "cell_type": "code",
   "execution_count": 14,
   "metadata": {
    "scrolled": true
   },
   "outputs": [
    {
     "data": {
      "text/plain": [
       "Text(0.5, 0, 'Average Profit')"
      ]
     },
     "execution_count": 14,
     "metadata": {},
     "output_type": "execute_result"
    },
    {
     "data": {
      "image/png": "[encoded data removed]",
      "text/plain": [
       "<Figure size 2160x360 with 2 Axes>"
      ]
     },
     "metadata": {
      "needs_background": "light"
     },
     "output_type": "display_data"
    }
   ],
   "source": [
    "fig, ax = plt.subplots(1,2,figsize=(30, 5))\n",
    "\n",
    "# Bar chart showing average profit by job industry\n",
    "plt.subplot(1,3,1)\n",
    "plt.title(\"Average Profit by Customer Job Industry\")\n",
    "sns.barplot(y='job_industry', x='profit', data=customer_df, palette=\"Paired\", orient='h')\n",
    "plt.ylabel(\"Job Industry\")\n",
    "plt.xlabel(\"Average Profit\")\n",
    "\n",
    "# Bar chart showing average profit by gender\n",
    "plt.subplot(1, 3, 2)\n",
    "plt.title(\"Average Profit by Gender\")\n",
    "sns.barplot(y='gender', x='profit', data=customer_df, palette=\"hls\", orient='h')\n",
    "plt.ylabel(\"Gender\")\n",
    "plt.xlabel(\"Average Profit\")"
   ]
  },
  {
   "cell_type": "markdown",
   "metadata": {},
   "source": [
    "Job industry and gender also seem to effectively differentiate average customer profit. Customers working in the IT, Retail, Financial Services, Health, and Entertainment industries  appear to generate more profit, on average, than those in other industries. In addition, male customers appear to generate more profit, on average, than female customers."
   ]
  },
  {
   "cell_type": "code",
   "execution_count": 15,
   "metadata": {},
   "outputs": [
    {
     "data": {
      "text/plain": [
       "Text(0, 0.5, 'Average Profit')"
      ]
     },
     "execution_count": 15,
     "metadata": {},
     "output_type": "execute_result"
    },
    {
     "data": {
      "image/png": "[encoded data removed]",
      "text/plain": [
       "<Figure size 1440x360 with 3 Axes>"
      ]
     },
     "metadata": {
      "needs_background": "light"
     },
     "output_type": "display_data"
    }
   ],
   "source": [
    "fig, ax = plt.subplots(1,3,figsize=(20, 5))\n",
    "\n",
    "# Bar chart showing average profit by wealth segment\n",
    "plt.subplot(1, 3, 1)\n",
    "plt.title(\"Average Profit by Wealth Segment\")\n",
    "sns.barplot(x='wealth_segment', y='profit', data=customer_df, palette=\"viridis\")\n",
    "plt.xlabel(\"Wealth Segment\")\n",
    "plt.ylabel(\"Average Profit\")\n",
    "\n",
    "# Bar chart showing average profit based on car ownership\n",
    "plt.subplot(1, 3, 2)\n",
    "plt.title(\"Average Profit: Car Owner vs Non-Car Owner\")\n",
    "sns.barplot(x='owns_car', y='profit', data=customer_df, palette=\"vlag\")\n",
    "plt.xlabel(\"Owns Car\")\n",
    "plt.ylabel(\"Average Profit\")\n",
    "\n",
    "# Bar chart showing average profit by state\n",
    "plt.subplot(1, 3, 3)\n",
    "plt.title(\"Average Profit by State\")\n",
    "sns.barplot(x='state', y='profit', data=customer_df, palette=\"Set2\")\n",
    "plt.xlabel(\"State\")\n",
    "plt.ylabel(\"Average Profit\")"
   ]
  },
  {
   "cell_type": "markdown",
   "metadata": {},
   "source": [
    "#   \n",
    "#### Feature Selection"
   ]
  },
  {
   "cell_type": "markdown",
   "metadata": {},
   "source": [
    "Based on the EDA, I will include the following features in my prediction model: gender, age, job industry, tenure, and past related purchases. I have chosen not to include wealth segment, car ownership, and state because there is not much difference in average profit across customers in those features."
   ]
  },
  {
   "cell_type": "code",
   "execution_count": 16,
   "metadata": {},
   "outputs": [],
   "source": [
    "# Select features to include in prediction model\n",
    "customer_df = customer_df[['name','gender','age','job_industry','tenure','past_related_purchases','profit']]"
   ]
  },
  {
   "cell_type": "markdown",
   "metadata": {},
   "source": [
    "#   \n",
    "#    \n",
    "## Model Development"
   ]
  },
  {
   "cell_type": "markdown",
   "metadata": {},
   "source": [
    " \n",
    "#### Data Preprocessing Setup"
   ]
  },
  {
   "cell_type": "markdown",
   "metadata": {},
   "source": [
    "I will split the data into a training set (80% of the data) and a validation set (20% of the data). The training set will be used by the model to learn from, whereas the validation set will be used to test the model's accuracy. I will also split up the categorical and numerical columns so that it can be processed through the data pipeline."
   ]
  },
  {
   "cell_type": "code",
   "execution_count": 17,
   "metadata": {},
   "outputs": [],
   "source": [
    "from sklearn.model_selection import train_test_split\n",
    "\n",
    "# Select subset of predictors\n",
    "X = customer_df.drop(['name','profit'], axis = 1)\n",
    "\n",
    "# Select target\n",
    "y = customer_df.profit\n",
    "\n",
    "# Divide data into training and validation subsets\n",
    "X_train_full, X_valid_full, y_train, y_valid = train_test_split(X, y, train_size=0.8, test_size=0.2,\n",
    "                                                                random_state=0)\n",
    "\n",
    "# Select categorical columns\n",
    "categorical_cols = [cname for cname in X_train_full.columns if X_train_full[cname].dtype == \"object\"]\n",
    "\n",
    "# Select numerical columns\n",
    "numerical_cols = [cname for cname in X_train_full.columns if X_train_full[cname].dtype in ['int64', 'float64']]\n",
    "\n",
    "# Keep selected columns only\n",
    "my_cols = categorical_cols + numerical_cols\n",
    "X_train = X_train_full[my_cols].copy()\n",
    "X_valid = X_valid_full[my_cols].copy()"
   ]
  },
  {
   "cell_type": "markdown",
   "metadata": {},
   "source": [
    "#   \n",
    "#### Data Preprocessing Pipeline"
   ]
  },
  {
   "cell_type": "markdown",
   "metadata": {},
   "source": [
    "The data preprocessing pipeline will set null numerical data to their respective median and  null categorical data to \"Other\". \n",
    "\n",
    "In addition, the models I will develop only accepts numerical values (i.e. non-categorical). Thus, I will use one-hot encoding to create new columns indicating the presence (1) or absence (0) of each possible value for each categorical variable in the data."
   ]
  },
  {
   "cell_type": "code",
   "execution_count": 18,
   "metadata": {},
   "outputs": [],
   "source": [
    "from sklearn.compose import ColumnTransformer\n",
    "from sklearn.pipeline import Pipeline\n",
    "from sklearn.impute import SimpleImputer\n",
    "from sklearn.preprocessing import OneHotEncoder\n",
    "from sklearn.metrics import mean_absolute_error\n",
    "\n",
    "# Preprocessing for numerical data\n",
    "numerical_transformer = SimpleImputer(strategy = 'median')\n",
    "\n",
    "# Preprocessing for categorical data\n",
    "categorical_transformer = Pipeline(steps = [\n",
    "    ('imputer', SimpleImputer(strategy = 'constant', fill_value = 'Other')),\n",
    "    ('onehot', OneHotEncoder(handle_unknown = 'ignore'))\n",
    "])\n",
    "\n",
    "# Bundle preprocessing for numerical and categorical data\n",
    "preprocessor = ColumnTransformer(\n",
    "    transformers=[\n",
    "        ('num', numerical_transformer, numerical_cols),\n",
    "        ('cat', categorical_transformer, categorical_cols)\n",
    "    ])"
   ]
  },
  {
   "cell_type": "markdown",
   "metadata": {},
   "source": [
    "#   \n",
    "#### Models"
   ]
  },
  {
   "cell_type": "markdown",
   "metadata": {},
   "source": [
    "I have decided to test five models: a decision tree model, a random forest model, and three gradient boosted models."
   ]
  },
  {
   "cell_type": "code",
   "execution_count": 19,
   "metadata": {},
   "outputs": [],
   "source": [
    "# Decision Tree Model\n",
    "from sklearn.tree import DecisionTreeRegressor\n",
    "dt_model = DecisionTreeRegressor(random_state=0)\n",
    "\n",
    "# Random Forest Model\n",
    "from sklearn.ensemble import RandomForestRegressor\n",
    "rf_model = RandomForestRegressor(n_estimators=100, random_state=0)\n",
    "\n",
    "# XGBoost Model\n",
    "from xgboost import XGBRegressor\n",
    "xgb_model = XGBRegressor(n_estimators=1000, learning_rate=0.005)\n",
    "\n",
    "# GBM Model\n",
    "from sklearn.ensemble import GradientBoostingRegressor \n",
    "gbm_model = GradientBoostingRegressor(random_state=0)\n",
    "\n",
    "# Light GBM Model\n",
    "lgbm_model = lgb.LGBMRegressor(n_estimators=100, learning_rate=0.005)"
   ]
  },
  {
   "cell_type": "markdown",
   "metadata": {},
   "source": [
    "#   \n",
    "#### Evaluation of Models"
   ]
  },
  {
   "cell_type": "markdown",
   "metadata": {},
   "source": [
    "Since the dataset is not very large, I will evaluate each model using cross-validation which consists of running a model on different subsets of the data to get multiple measures of model quality which will produce a more accurate measure. Finally, I will select the model with the lowest average mean absolute error (MAE)."
   ]
  },
  {
   "cell_type": "code",
   "execution_count": 20,
   "metadata": {
    "scrolled": true
   },
   "outputs": [
    {
     "name": "stdout",
     "output_type": "stream",
     "text": [
      "Average Mean Absolute Error Score: 2055 \t\t\t Model: DecisionTreeRegressor\n",
      "Average Mean Absolute Error Score: 1506 \t\t\t Model: RandomForestRegressor\n",
      "Average Mean Absolute Error Score: 1461 \t\t\t Model: XGBRegressor\n",
      "Average Mean Absolute Error Score: 1444 \t\t\t Model: GradientBoostingRegressor\n",
      "Average Mean Absolute Error Score: 1425 \t\t\t Model: LGBMRegressor\n"
     ]
    }
   ],
   "source": [
    "from sklearn.model_selection import cross_val_score\n",
    "\n",
    "def get_mae(model, X_train, X_valid, y_train, y_val):\n",
    "    model_pipeline = Pipeline(steps=[('preprocessor', preprocessor),\n",
    "                              ('model', model)\n",
    "                             ])\n",
    "    model_pipeline.fit(X_train, y_train)\n",
    "    \n",
    "    # Multiply by -1 since sklearn calculates *negative* MAE\n",
    "    scores = -1 * cross_val_score(model_pipeline, X, y,\n",
    "                              cv=5,\n",
    "                              scoring='neg_mean_absolute_error')\n",
    "    mae = scores.mean()\n",
    "    return(mae)\n",
    "\n",
    "# Compare average mean absolute error (MAE) across different models\n",
    "for model in [dt_model, rf_model, xgb_model, gbm_model, lgbm_model]:\n",
    "    my_mae = get_mae(model, X_train, X_valid, y_train, y_valid)\n",
    "    print(\"Average Mean Absolute Error Score: %d \\t\\t\\t Model: %s\" %(my_mae, str(model).split(\"(\")[0]))"
   ]
  },
  {
   "cell_type": "markdown",
   "metadata": {},
   "source": [
    "#   \n",
    "#### Model Selection"
   ]
  },
  {
   "cell_type": "markdown",
   "metadata": {},
   "source": [
    "I will use the **Light GBM Model** to predict new customer profit since the LGBM Regressor model has the lowest average mean absolute error. Now, I will take analyze which features will impact the model the most."
   ]
  },
  {
   "cell_type": "code",
   "execution_count": 21,
   "metadata": {},
   "outputs": [
    {
     "data": {
      "image/png": "[encoded data removed]",
      "text/plain": [
       "<Figure size 432x288 with 1 Axes>"
      ]
     },
     "metadata": {
      "needs_background": "light"
     },
     "output_type": "display_data"
    }
   ],
   "source": [
    "# Deteremine importance of each feature in the LGBM model\n",
    "feature_imp = pd.DataFrame(sorted(zip(lgbm_model.feature_importances_,X.columns)), columns=['Value','Feature'])\n",
    "plt.figure(figsize=(6, 4))\n",
    "sns.barplot(x=\"Value\", y=\"Feature\", data=feature_imp.sort_values(by=\"Value\", ascending=False))\n",
    "plt.title('Light GBM Feature Importance')\n",
    "plt.tight_layout()\n",
    "plt.show()"
   ]
  },
  {
   "cell_type": "markdown",
   "metadata": {},
   "source": [
    "The model will primarily use the customer's job industry, gender, and age to predict the profit they will generate. Their tenure and past related bike purchases will also have a small impact on the model predictions."
   ]
  },
  {
   "cell_type": "markdown",
   "metadata": {},
   "source": [
    "#   \n",
    "#   \n",
    "## Model Deploypment"
   ]
  },
  {
   "cell_type": "markdown",
   "metadata": {},
   "source": [
    "#### New Customer Data Frame"
   ]
  },
  {
   "cell_type": "code",
   "execution_count": 22,
   "metadata": {},
   "outputs": [],
   "source": [
    "# Read new customer data frame\n",
    "new_customer = pd.read_excel('KPMG_VI_raw_data.xlsx', sheet_name = 'NewCustomerList',\n",
    "                                skiprows = 1)[['first_name','last_name','gender','past_3_years_bike_related_purchases','DOB',\n",
    "                                               'job_industry_category','tenure','state']]"
   ]
  },
  {
   "cell_type": "code",
   "execution_count": 23,
   "metadata": {
    "scrolled": false
   },
   "outputs": [
    {
     "data": {
      "text/html": [
       "<div>\n",
       "<style scoped>\n",
       "    .dataframe tbody tr th:only-of-type {\n",
       "        vertical-align: middle;\n",
       "    }\n",
       "\n",
       "    .dataframe tbody tr th {\n",
       "        vertical-align: top;\n",
       "    }\n",
       "\n",
       "    .dataframe thead th {\n",
       "        text-align: right;\n",
       "    }\n",
       "</style>\n",
       "<table border=\"1\" class=\"dataframe\">\n",
       "  <thead>\n",
       "    <tr style=\"text-align: right;\">\n",
       "      <th></th>\n",
       "      <th>name</th>\n",
       "      <th>gender</th>\n",
       "      <th>age</th>\n",
       "      <th>job_industry</th>\n",
       "      <th>tenure</th>\n",
       "      <th>past_related_purchases</th>\n",
       "    </tr>\n",
       "  </thead>\n",
       "  <tbody>\n",
       "    <tr>\n",
       "      <th>0</th>\n",
       "      <td>Chickie Brister</td>\n",
       "      <td>Male</td>\n",
       "      <td>63.0</td>\n",
       "      <td>Manufacturing</td>\n",
       "      <td>14</td>\n",
       "      <td>86</td>\n",
       "    </tr>\n",
       "    <tr>\n",
       "      <th>1</th>\n",
       "      <td>Morly Genery</td>\n",
       "      <td>Male</td>\n",
       "      <td>50.0</td>\n",
       "      <td>Property</td>\n",
       "      <td>16</td>\n",
       "      <td>69</td>\n",
       "    </tr>\n",
       "    <tr>\n",
       "      <th>2</th>\n",
       "      <td>Ardelis Forrester</td>\n",
       "      <td>Female</td>\n",
       "      <td>46.0</td>\n",
       "      <td>Financial Services</td>\n",
       "      <td>10</td>\n",
       "      <td>10</td>\n",
       "    </tr>\n",
       "    <tr>\n",
       "      <th>3</th>\n",
       "      <td>Lucine Stutt</td>\n",
       "      <td>Female</td>\n",
       "      <td>41.0</td>\n",
       "      <td>Manufacturing</td>\n",
       "      <td>5</td>\n",
       "      <td>64</td>\n",
       "    </tr>\n",
       "    <tr>\n",
       "      <th>4</th>\n",
       "      <td>Melinda Hadlee</td>\n",
       "      <td>Female</td>\n",
       "      <td>55.0</td>\n",
       "      <td>Financial Services</td>\n",
       "      <td>19</td>\n",
       "      <td>34</td>\n",
       "    </tr>\n",
       "  </tbody>\n",
       "</table>\n",
       "</div>"
      ],
      "text/plain": [
       "                name  gender   age        job_industry  tenure  \\\n",
       "0    Chickie Brister    Male  63.0       Manufacturing      14   \n",
       "1       Morly Genery    Male  50.0            Property      16   \n",
       "2  Ardelis Forrester  Female  46.0  Financial Services      10   \n",
       "3       Lucine Stutt  Female  41.0       Manufacturing       5   \n",
       "4     Melinda Hadlee  Female  55.0  Financial Services      19   \n",
       "\n",
       "   past_related_purchases  \n",
       "0                      86  \n",
       "1                      69  \n",
       "2                      10  \n",
       "3                      64  \n",
       "4                      34  "
      ]
     },
     "execution_count": 23,
     "metadata": {},
     "output_type": "execute_result"
    }
   ],
   "source": [
    "# Clean new customer data frame\n",
    "new_customer_df = clean_data(new_customer)\n",
    "\n",
    "# Select model features from new customer data frame\n",
    "new_customer_df = new_customer_df[['name','gender','age','job_industry','tenure','past_related_purchases']]\n",
    "\n",
    "new_customer_df.head()"
   ]
  },
  {
   "cell_type": "markdown",
   "metadata": {},
   "source": [
    "#   \n",
    "#### Apply Light GBM Prediction Model to New Customers"
   ]
  },
  {
   "cell_type": "code",
   "execution_count": 26,
   "metadata": {},
   "outputs": [],
   "source": [
    "# Deploy model pipeline on new customer data set\n",
    "deploy_model_pipeline = Pipeline(steps=[('preprocessor', preprocessor),\n",
    "                              ('model', lgbm_model)\n",
    "                             ])\n",
    "\n",
    "# Get new customer profit predictions\n",
    "new_customer_df['profit_prediction'] = deploy_model_pipeline.predict(new_customer_df.drop('name', axis=1))"
   ]
  },
  {
   "cell_type": "markdown",
   "metadata": {},
   "source": [
    "#   \n",
    "#### Predicted High-Value New Customers"
   ]
  },
  {
   "cell_type": "code",
   "execution_count": 27,
   "metadata": {
    "scrolled": false
   },
   "outputs": [
    {
     "data": {
      "text/html": [
       "<div>\n",
       "<style scoped>\n",
       "    .dataframe tbody tr th:only-of-type {\n",
       "        vertical-align: middle;\n",
       "    }\n",
       "\n",
       "    .dataframe tbody tr th {\n",
       "        vertical-align: top;\n",
       "    }\n",
       "\n",
       "    .dataframe thead th {\n",
       "        text-align: right;\n",
       "    }\n",
       "</style>\n",
       "<table border=\"1\" class=\"dataframe\">\n",
       "  <thead>\n",
       "    <tr style=\"text-align: right;\">\n",
       "      <th></th>\n",
       "      <th>name</th>\n",
       "      <th>gender</th>\n",
       "      <th>age</th>\n",
       "      <th>job_industry</th>\n",
       "      <th>tenure</th>\n",
       "      <th>past_related_purchases</th>\n",
       "      <th>profit_prediction</th>\n",
       "    </tr>\n",
       "  </thead>\n",
       "  <tbody>\n",
       "    <tr>\n",
       "      <th>212</th>\n",
       "      <td>Tabbie Curner</td>\n",
       "      <td>Male</td>\n",
       "      <td>23.0</td>\n",
       "      <td>Retail</td>\n",
       "      <td>6</td>\n",
       "      <td>12</td>\n",
       "      <td>3677.591097</td>\n",
       "    </tr>\n",
       "    <tr>\n",
       "      <th>578</th>\n",
       "      <td>Berenice Kaesmakers</td>\n",
       "      <td>Female</td>\n",
       "      <td>25.0</td>\n",
       "      <td>Retail</td>\n",
       "      <td>11</td>\n",
       "      <td>64</td>\n",
       "      <td>3601.448925</td>\n",
       "    </tr>\n",
       "    <tr>\n",
       "      <th>97</th>\n",
       "      <td>Karlik Penchen</td>\n",
       "      <td>Male</td>\n",
       "      <td>25.0</td>\n",
       "      <td>Retail</td>\n",
       "      <td>11</td>\n",
       "      <td>60</td>\n",
       "      <td>3521.201837</td>\n",
       "    </tr>\n",
       "    <tr>\n",
       "      <th>914</th>\n",
       "      <td>Launce Gale</td>\n",
       "      <td>Male</td>\n",
       "      <td>81.0</td>\n",
       "      <td>NaN</td>\n",
       "      <td>21</td>\n",
       "      <td>86</td>\n",
       "      <td>3521.010975</td>\n",
       "    </tr>\n",
       "    <tr>\n",
       "      <th>799</th>\n",
       "      <td>Ansell Tolhurst</td>\n",
       "      <td>Male</td>\n",
       "      <td>71.0</td>\n",
       "      <td>Manufacturing</td>\n",
       "      <td>22</td>\n",
       "      <td>77</td>\n",
       "      <td>3521.010975</td>\n",
       "    </tr>\n",
       "    <tr>\n",
       "      <th>803</th>\n",
       "      <td>Bryon Goundry</td>\n",
       "      <td>Male</td>\n",
       "      <td>69.0</td>\n",
       "      <td>Manufacturing</td>\n",
       "      <td>21</td>\n",
       "      <td>79</td>\n",
       "      <td>3521.010975</td>\n",
       "    </tr>\n",
       "    <tr>\n",
       "      <th>571</th>\n",
       "      <td>Esdras Birchett</td>\n",
       "      <td>Male</td>\n",
       "      <td>69.0</td>\n",
       "      <td>Entertainment</td>\n",
       "      <td>21</td>\n",
       "      <td>81</td>\n",
       "      <td>3521.010975</td>\n",
       "    </tr>\n",
       "    <tr>\n",
       "      <th>234</th>\n",
       "      <td>Agace Hedge</td>\n",
       "      <td>Female</td>\n",
       "      <td>23.0</td>\n",
       "      <td>NaN</td>\n",
       "      <td>13</td>\n",
       "      <td>25</td>\n",
       "      <td>3520.755163</td>\n",
       "    </tr>\n",
       "    <tr>\n",
       "      <th>843</th>\n",
       "      <td>Melosa McOwan</td>\n",
       "      <td>Female</td>\n",
       "      <td>19.0</td>\n",
       "      <td>Financial Services</td>\n",
       "      <td>12</td>\n",
       "      <td>25</td>\n",
       "      <td>3520.755163</td>\n",
       "    </tr>\n",
       "    <tr>\n",
       "      <th>878</th>\n",
       "      <td>Lizette McKeaveney</td>\n",
       "      <td>Female</td>\n",
       "      <td>26.0</td>\n",
       "      <td>Health</td>\n",
       "      <td>13</td>\n",
       "      <td>30</td>\n",
       "      <td>3514.064535</td>\n",
       "    </tr>\n",
       "  </tbody>\n",
       "</table>\n",
       "</div>"
      ],
      "text/plain": [
       "                    name  gender   age        job_industry  tenure  \\\n",
       "212        Tabbie Curner    Male  23.0              Retail       6   \n",
       "578  Berenice Kaesmakers  Female  25.0              Retail      11   \n",
       "97        Karlik Penchen    Male  25.0              Retail      11   \n",
       "914          Launce Gale    Male  81.0                 NaN      21   \n",
       "799      Ansell Tolhurst    Male  71.0       Manufacturing      22   \n",
       "803        Bryon Goundry    Male  69.0       Manufacturing      21   \n",
       "571      Esdras Birchett    Male  69.0       Entertainment      21   \n",
       "234          Agace Hedge  Female  23.0                 NaN      13   \n",
       "843        Melosa McOwan  Female  19.0  Financial Services      12   \n",
       "878   Lizette McKeaveney  Female  26.0              Health      13   \n",
       "\n",
       "     past_related_purchases  profit_prediction  \n",
       "212                      12        3677.591097  \n",
       "578                      64        3601.448925  \n",
       "97                       60        3521.201837  \n",
       "914                      86        3521.010975  \n",
       "799                      77        3521.010975  \n",
       "803                      79        3521.010975  \n",
       "571                      81        3521.010975  \n",
       "234                      25        3520.755163  \n",
       "843                      25        3520.755163  \n",
       "878                      30        3514.064535  "
      ]
     },
     "execution_count": 27,
     "metadata": {},
     "output_type": "execute_result"
    }
   ],
   "source": [
    "new_customer_df.sort_values('profit_prediction', ascending=False).head(10)"
   ]
  },
  {
   "cell_type": "markdown",
   "metadata": {},
   "source": [
    "As you can see, a lot of the demographic information for the predicted high-value new customers is in line with the EDA results. Most of these customers are male, in their early 20s or 65+, in the retail, entertainment, financial services, or health industry, have been working in their current position for a while (long tenure), and have made many bike related purchases in the past."
   ]
  }
 ],
 "metadata": {
  "kernelspec": {
   "display_name": "Python 3",
   "language": "python",
   "name": "python3"
  },
  "language_info": {
   "codemirror_mode": {
    "name": "ipython",
    "version": 3
   },
   "file_extension": ".py",
   "mimetype": "text/x-python",
   "name": "python",
   "nbconvert_exporter": "python",
   "pygments_lexer": "ipython3",
   "version": "3.7.7"
  }
 },
 "nbformat": 4,
 "nbformat_minor": 4
}
